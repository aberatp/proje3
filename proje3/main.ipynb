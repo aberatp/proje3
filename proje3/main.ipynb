{
 "cells": [
  {
   "cell_type": "code",
   "execution_count": 5,
   "metadata": {},
   "outputs": [
    {
     "name": "stdout",
     "output_type": "stream",
     "text": [
      "İlişki tablosu 'Tablo_1.xlsx' dosyasına kaydedildi.\n"
     ]
    }
   ],
   "source": [
    "#Tablo 1 oluşturulması\n",
    "import pandas as pd\n",
    "import numpy as np\n",
    "\n",
    "file_path = 'NotYukle-BLM315-2024-1-Random.xlsx'\n",
    "df = pd.read_excel(file_path)\n",
    "\n",
    "program_outcomes = [1, 2, 3, 4, 5]\n",
    "lesson_outcomes = [1, 2, 3, 4, 5]\n",
    "\n",
    "relation_matrix = np.random.choice([0, 0.2, 0.5, 0.8, 1], size=(len(program_outcomes), len(lesson_outcomes)))\n",
    "\n",
    "relation_values = relation_matrix.mean(axis=1)\n",
    "\n",
    "output_df = pd.DataFrame(relation_matrix, columns=[f\"Ders Çıktısı {i}\" for i in lesson_outcomes])\n",
    "output_df.insert(0, \"Prg Çıktı\", program_outcomes)\n",
    "output_df[\"İlişki Değeri\"] = relation_values\n",
    "\n",
    "output_path = 'Tablo_1.xlsx'\n",
    "output_df.to_excel(output_path, index=False)\n",
    "\n",
    "print(f\"İlişki tablosu '{output_path}' dosyasına kaydedildi.\")\n"
   ]
  },
  {
   "cell_type": "code",
   "execution_count": 6,
   "metadata": {},
   "outputs": [
    {
     "name": "stdout",
     "output_type": "stream",
     "text": [
      "Tablo 2 'Tablo_2.xlsx' dosyasına kaydedildi.\n"
     ]
    }
   ],
   "source": [
    "#Tablo 2 oluşturulması\n",
    "import pandas as pd\n",
    "import numpy as np\n",
    "\n",
    "lesson_outcomes = [1, 2, 3, 4, 5]\n",
    "evaluation_criteria = [\"Öd1\", \"Öd2\", \"Quiz\", \"Vize\", \"Fin\"]\n",
    "criteria_weights = [10, 10, 10, 30, 40]\n",
    "\n",
    "relation_matrix = np.random.choice([0, 1], size=(len(lesson_outcomes), len(evaluation_criteria)))\n",
    "\n",
    "output_df = pd.DataFrame(relation_matrix, columns=evaluation_criteria)\n",
    "output_df.insert(0, \"Ders Çıktı\", lesson_outcomes)\n",
    "\n",
    "weights_df = pd.DataFrame([criteria_weights], columns=evaluation_criteria)\n",
    "weights_df.insert(0, \"Ders Çıktı\", [\"Ağırlıklar\"])\n",
    "\n",
    "final_df = pd.concat([weights_df, output_df], ignore_index=True)\n",
    "\n",
    "output_path = 'Tablo_2.xlsx'\n",
    "final_df.to_excel(output_path, index=False)\n",
    "\n",
    "print(f\"Tablo 2 '{output_path}' dosyasına kaydedildi.\")\n"
   ]
  },
  {
   "cell_type": "code",
   "execution_count": 7,
   "metadata": {},
   "outputs": [
    {
     "name": "stdout",
     "output_type": "stream",
     "text": [
      "Ağırlıklı Değerlendirme Tablosu 'Tablo_3.xlsx' olarak kaydedildi.\n"
     ]
    }
   ],
   "source": [
    "#Tablo 3 oluşturulması\n",
    "import pandas as pd\n",
    "\n",
    "file_path = 'Tablo_2.xlsx'\n",
    "relation_data = pd.read_excel(file_path)\n",
    "\n",
    "weights = relation_data.iloc[0, 1:].astype(float) / 100\n",
    "\n",
    "relation_data = relation_data.iloc[1:].reset_index(drop=True)\n",
    "\n",
    "weighted_matrix = relation_data.iloc[:, 1:] * weights\n",
    "\n",
    "weighted_matrix[\"TOPLAM\"] = weighted_matrix.sum(axis=1)\n",
    "\n",
    "weighted_matrix.insert(0, \"Ders Çıktı\", relation_data[\"Ders Çıktı\"])\n",
    "\n",
    "output_path = 'Tablo_3.xlsx'\n",
    "weighted_matrix.to_excel(output_path, index=False)\n",
    "\n",
    "print(f\"Ağırlıklı Değerlendirme Tablosu '{output_path}' olarak kaydedildi.\")\n"
   ]
  },
  {
   "cell_type": "code",
   "execution_count": 4,
   "metadata": {},
   "outputs": [
    {
     "ename": "ValueError",
     "evalue": "Length mismatch: Expected axis has 7 elements, new values have 8 elements",
     "output_type": "error",
     "traceback": [
      "\u001b[1;31m---------------------------------------------------------------------------\u001b[0m",
      "\u001b[1;31mValueError\u001b[0m                                Traceback (most recent call last)",
      "Cell \u001b[1;32mIn[4], line 11\u001b[0m\n\u001b[0;32m      8\u001b[0m weighted_evaluation \u001b[38;5;241m=\u001b[39m pd\u001b[38;5;241m.\u001b[39mread_excel(weighted_evaluation_path)\n\u001b[0;32m     10\u001b[0m weighted_evaluation_columns \u001b[38;5;241m=\u001b[39m [\u001b[38;5;124m\"\u001b[39m\u001b[38;5;124mDers Çıktı\u001b[39m\u001b[38;5;124m\"\u001b[39m] \u001b[38;5;241m+\u001b[39m \u001b[38;5;28mlist\u001b[39m(student_scores\u001b[38;5;241m.\u001b[39mcolumns[\u001b[38;5;241m1\u001b[39m:]) \u001b[38;5;241m+\u001b[39m [\u001b[38;5;124m\"\u001b[39m\u001b[38;5;124mTOPLAM\u001b[39m\u001b[38;5;124m\"\u001b[39m]\n\u001b[1;32m---> 11\u001b[0m \u001b[43mweighted_evaluation\u001b[49m\u001b[38;5;241;43m.\u001b[39;49m\u001b[43mcolumns\u001b[49m \u001b[38;5;241m=\u001b[39m weighted_evaluation_columns\n\u001b[0;32m     13\u001b[0m student_results \u001b[38;5;241m=\u001b[39m {}\n\u001b[0;32m     14\u001b[0m \u001b[38;5;28;01mfor\u001b[39;00m i, row \u001b[38;5;129;01min\u001b[39;00m student_scores\u001b[38;5;241m.\u001b[39miterrows():\n",
      "File \u001b[1;32m~\\AppData\\Roaming\\Python\\Python313\\site-packages\\pandas\\core\\generic.py:6313\u001b[0m, in \u001b[0;36mNDFrame.__setattr__\u001b[1;34m(self, name, value)\u001b[0m\n\u001b[0;32m   6311\u001b[0m \u001b[38;5;28;01mtry\u001b[39;00m:\n\u001b[0;32m   6312\u001b[0m     \u001b[38;5;28mobject\u001b[39m\u001b[38;5;241m.\u001b[39m\u001b[38;5;21m__getattribute__\u001b[39m(\u001b[38;5;28mself\u001b[39m, name)\n\u001b[1;32m-> 6313\u001b[0m     \u001b[38;5;28;01mreturn\u001b[39;00m \u001b[38;5;28;43mobject\u001b[39;49m\u001b[38;5;241;43m.\u001b[39;49m\u001b[38;5;21;43m__setattr__\u001b[39;49m\u001b[43m(\u001b[49m\u001b[38;5;28;43mself\u001b[39;49m\u001b[43m,\u001b[49m\u001b[43m \u001b[49m\u001b[43mname\u001b[49m\u001b[43m,\u001b[49m\u001b[43m \u001b[49m\u001b[43mvalue\u001b[49m\u001b[43m)\u001b[49m\n\u001b[0;32m   6314\u001b[0m \u001b[38;5;28;01mexcept\u001b[39;00m \u001b[38;5;167;01mAttributeError\u001b[39;00m:\n\u001b[0;32m   6315\u001b[0m     \u001b[38;5;28;01mpass\u001b[39;00m\n",
      "File \u001b[1;32mproperties.pyx:69\u001b[0m, in \u001b[0;36mpandas._libs.properties.AxisProperty.__set__\u001b[1;34m()\u001b[0m\n",
      "File \u001b[1;32m~\\AppData\\Roaming\\Python\\Python313\\site-packages\\pandas\\core\\generic.py:814\u001b[0m, in \u001b[0;36mNDFrame._set_axis\u001b[1;34m(self, axis, labels)\u001b[0m\n\u001b[0;32m    809\u001b[0m \u001b[38;5;250m\u001b[39m\u001b[38;5;124;03m\"\"\"\u001b[39;00m\n\u001b[0;32m    810\u001b[0m \u001b[38;5;124;03mThis is called from the cython code when we set the `index` attribute\u001b[39;00m\n\u001b[0;32m    811\u001b[0m \u001b[38;5;124;03mdirectly, e.g. `series.index = [1, 2, 3]`.\u001b[39;00m\n\u001b[0;32m    812\u001b[0m \u001b[38;5;124;03m\"\"\"\u001b[39;00m\n\u001b[0;32m    813\u001b[0m labels \u001b[38;5;241m=\u001b[39m ensure_index(labels)\n\u001b[1;32m--> 814\u001b[0m \u001b[38;5;28;43mself\u001b[39;49m\u001b[38;5;241;43m.\u001b[39;49m\u001b[43m_mgr\u001b[49m\u001b[38;5;241;43m.\u001b[39;49m\u001b[43mset_axis\u001b[49m\u001b[43m(\u001b[49m\u001b[43maxis\u001b[49m\u001b[43m,\u001b[49m\u001b[43m \u001b[49m\u001b[43mlabels\u001b[49m\u001b[43m)\u001b[49m\n\u001b[0;32m    815\u001b[0m \u001b[38;5;28mself\u001b[39m\u001b[38;5;241m.\u001b[39m_clear_item_cache()\n",
      "File \u001b[1;32m~\\AppData\\Roaming\\Python\\Python313\\site-packages\\pandas\\core\\internals\\managers.py:238\u001b[0m, in \u001b[0;36mBaseBlockManager.set_axis\u001b[1;34m(self, axis, new_labels)\u001b[0m\n\u001b[0;32m    236\u001b[0m \u001b[38;5;28;01mdef\u001b[39;00m\u001b[38;5;250m \u001b[39m\u001b[38;5;21mset_axis\u001b[39m(\u001b[38;5;28mself\u001b[39m, axis: AxisInt, new_labels: Index) \u001b[38;5;241m-\u001b[39m\u001b[38;5;241m>\u001b[39m \u001b[38;5;28;01mNone\u001b[39;00m:\n\u001b[0;32m    237\u001b[0m     \u001b[38;5;66;03m# Caller is responsible for ensuring we have an Index object.\u001b[39;00m\n\u001b[1;32m--> 238\u001b[0m     \u001b[38;5;28;43mself\u001b[39;49m\u001b[38;5;241;43m.\u001b[39;49m\u001b[43m_validate_set_axis\u001b[49m\u001b[43m(\u001b[49m\u001b[43maxis\u001b[49m\u001b[43m,\u001b[49m\u001b[43m \u001b[49m\u001b[43mnew_labels\u001b[49m\u001b[43m)\u001b[49m\n\u001b[0;32m    239\u001b[0m     \u001b[38;5;28mself\u001b[39m\u001b[38;5;241m.\u001b[39maxes[axis] \u001b[38;5;241m=\u001b[39m new_labels\n",
      "File \u001b[1;32m~\\AppData\\Roaming\\Python\\Python313\\site-packages\\pandas\\core\\internals\\base.py:98\u001b[0m, in \u001b[0;36mDataManager._validate_set_axis\u001b[1;34m(self, axis, new_labels)\u001b[0m\n\u001b[0;32m     95\u001b[0m     \u001b[38;5;28;01mpass\u001b[39;00m\n\u001b[0;32m     97\u001b[0m \u001b[38;5;28;01melif\u001b[39;00m new_len \u001b[38;5;241m!=\u001b[39m old_len:\n\u001b[1;32m---> 98\u001b[0m     \u001b[38;5;28;01mraise\u001b[39;00m \u001b[38;5;167;01mValueError\u001b[39;00m(\n\u001b[0;32m     99\u001b[0m         \u001b[38;5;124mf\u001b[39m\u001b[38;5;124m\"\u001b[39m\u001b[38;5;124mLength mismatch: Expected axis has \u001b[39m\u001b[38;5;132;01m{\u001b[39;00mold_len\u001b[38;5;132;01m}\u001b[39;00m\u001b[38;5;124m elements, new \u001b[39m\u001b[38;5;124m\"\u001b[39m\n\u001b[0;32m    100\u001b[0m         \u001b[38;5;124mf\u001b[39m\u001b[38;5;124m\"\u001b[39m\u001b[38;5;124mvalues have \u001b[39m\u001b[38;5;132;01m{\u001b[39;00mnew_len\u001b[38;5;132;01m}\u001b[39;00m\u001b[38;5;124m elements\u001b[39m\u001b[38;5;124m\"\u001b[39m\n\u001b[0;32m    101\u001b[0m     )\n",
      "\u001b[1;31mValueError\u001b[0m: Length mismatch: Expected axis has 7 elements, new values have 8 elements"
     ]
    }
   ],
   "source": [
    "#Tablo 4 oluşturulması\n",
    "import pandas as pd\n",
    "\n",
    "student_scores_path = 'NotYukle-BLM315-2024-1-Random.xlsx'\n",
    "weighted_evaluation_path = 'Tablo_3.xlsx'\n",
    "\n",
    "student_scores = pd.read_excel(student_scores_path)\n",
    "weighted_evaluation = pd.read_excel(weighted_evaluation_path)\n",
    "\n",
    "weighted_evaluation_columns = [\"Ders Çıktı\"] + list(student_scores.columns[1:]) + [\"TOPLAM\"]\n",
    "weighted_evaluation.columns = weighted_evaluation_columns\n",
    "\n",
    "student_results = {}\n",
    "for i, row in student_scores.iterrows():\n",
    "    student_no = row[\"Ogrenci_No\"]\n",
    "    student_performance = weighted_evaluation.iloc[:, 1:-1].multiply(row[1:], axis=1)\n",
    "    student_performance[\"TOPLAM\"] = student_performance.sum(axis=1)\n",
    "    student_performance[\"MAX\"] = weighted_evaluation[\"TOPLAM\"] * 100\n",
    "    student_performance[\"%Başarı\"] = (student_performance[\"TOPLAM\"] / student_performance[\"MAX\"]) * 100\n",
    "    student_performance.insert(0, \"Ders Çıktı\", weighted_evaluation[\"Ders Çıktı\"])\n",
    "    student_results[student_no] = student_performance\n",
    "\n",
    "for student_no, result in student_results.items():\n",
    "    valid_student_no = str(student_no).replace(\"*\", \"_\")\n",
    "    output_path = f'Tablo_4_Student_{valid_student_no}.xlsx'\n",
    "    result.to_excel(output_path, index=False)\n",
    "    print(f\"{student_no} için Tablo 4 başarıyla oluşturuldu ve {output_path} olarak kaydedildi.\")\n"
   ]
  },
  {
   "cell_type": "code",
   "execution_count": 57,
   "metadata": {},
   "outputs": [
    {
     "name": "stdout",
     "output_type": "stream",
     "text": [
      "Tablo 5 'Tablo_5.xlsx' dosyasına kaydedildi.\n"
     ]
    }
   ],
   "source": [
    "#Tablo 5 oluşturulması\n",
    "import pandas as pd\n",
    "\n",
    "relation_data_path = 'Tablo_1.xlsx'\n",
    "student_success_path = 'Tablo_4_Student_2_______1.xlsx'\n",
    "\n",
    "relation_data = pd.read_excel(relation_data_path)\n",
    "student_success_data = pd.read_excel(student_success_path)\n",
    "\n",
    "relation_values = relation_data[\"İlişki Değeri\"]\n",
    "program_outcomes = relation_data[\"Prg Çıktı\"]\n",
    "\n",
    "success_percentages = student_success_data.iloc[:, 1:-2]\n",
    "average_success = success_percentages.mean(axis=1)\n",
    "\n",
    "program_success = []\n",
    "for i, prg_outcome in enumerate(program_outcomes):\n",
    "    relation_value = relation_values[i]\n",
    "    if relation_value > 0:\n",
    "        success_ratio = average_success[i] / relation_value\n",
    "    else:\n",
    "        success_ratio = 0\n",
    "    program_success.append(success_ratio)\n",
    "\n",
    "output_df = pd.DataFrame({\n",
    "    \"Prg Çıktı\": program_outcomes,\n",
    "    \"Başarı Oranı\": program_success\n",
    "})\n",
    "\n",
    "for i, column in enumerate(student_success_data.columns[1:-2]):\n",
    "    output_df[column] = success_percentages.iloc[:, i]\n",
    "\n",
    "output_path = 'Tablo_5.xlsx'\n",
    "output_df.to_excel(output_path, index=False)\n",
    "\n",
    "print(f\"Tablo 5 '{output_path}' dosyasına kaydedildi.\")\n"
   ]
  },
  {
   "cell_type": "code",
   "execution_count": null,
   "metadata": {},
   "outputs": [],
   "source": []
  }
 ],
 "metadata": {
  "kernelspec": {
   "display_name": "Python 3",
   "language": "python",
   "name": "python3"
  },
  "language_info": {
   "codemirror_mode": {
    "name": "ipython",
    "version": 3
   },
   "file_extension": ".py",
   "mimetype": "text/x-python",
   "name": "python",
   "nbconvert_exporter": "python",
   "pygments_lexer": "ipython3",
   "version": "3.13.1"
  }
 },
 "nbformat": 4,
 "nbformat_minor": 2
}
